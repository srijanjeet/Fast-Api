{
 "cells": [
  {
   "cell_type": "code",
   "execution_count": 2,
   "metadata": {},
   "outputs": [],
   "source": [
    "import pandas as pd"
   ]
  },
  {
   "cell_type": "code",
   "execution_count": 3,
   "metadata": {},
   "outputs": [],
   "source": [
    "import json\n",
    "import sqlite3\n",
    "db = sqlite3.connect(\"mydata.db\")"
   ]
  },
  {
   "cell_type": "code",
   "execution_count": 4,
   "metadata": {},
   "outputs": [],
   "source": [
    "t = pd.read_json('sample1.json')\n",
    "t.columns = [\n",
    "   'supplier_name',\n",
    "   'region',\n",
    "   'country',\n",
    "   'function',\n",
    "   'cost',\n",
    "   'rating',\n",
    "   'average_delivery_time',\n",
    "   'number_of_escalations',\n",
    "   'year',\n",
    "   'resources' \n",
    "]"
   ]
  },
  {
   "cell_type": "code",
   "execution_count": 5,
   "metadata": {},
   "outputs": [],
   "source": [
    "t.to_json('main_json.json',orient='records')"
   ]
  },
  {
   "cell_type": "code",
   "execution_count": 46,
   "metadata": {},
   "outputs": [],
   "source": [
    "t.to_csv('main_csv.csv',index=False)"
   ]
  },
  {
   "cell_type": "code",
   "execution_count": 7,
   "metadata": {},
   "outputs": [],
   "source": [
    "columns = list(traffic[0].keys())"
   ]
  },
  {
   "cell_type": "code",
   "execution_count": 8,
   "metadata": {},
   "outputs": [
    {
     "data": {
      "text/plain": [
       "{'supplier_name': '360Networks Inc.',\n",
       " 'region': 'Europe',\n",
       " 'country': 'Canada',\n",
       " 'function': 'Mobile developer',\n",
       " 'cost': '185k',\n",
       " 'rating': 93,\n",
       " 'average_delivery_time': 258,\n",
       " 'number_of_escalations': 60,\n",
       " 'year': 1995,\n",
       " 'resources': 5500}"
      ]
     },
     "execution_count": 8,
     "metadata": {},
     "output_type": "execute_result"
    }
   ],
   "source": [
    "traffic[0]"
   ]
  },
  {
   "cell_type": "code",
   "execution_count": 9,
   "metadata": {},
   "outputs": [],
   "source": [
    "cursor = db.cursor()\n",
    "sql ='''CREATE TABLE slab(\n",
    "   supplier_name CHAR(200) NOT NULL,\n",
    "   region CHAR(200),\n",
    "   country CHAR(200),\n",
    "   function CHAR(200),\n",
    "   cost CHAR(200),\n",
    "   rating INT,\n",
    "   average_delivery_time INT,\n",
    "   number_of_escalations INT,\n",
    "   year INT,\n",
    "   resources INT\n",
    ")'''\n"
   ]
  },
  {
   "cell_type": "code",
   "execution_count": 10,
   "metadata": {},
   "outputs": [
    {
     "data": {
      "text/plain": [
       "<sqlite3.Cursor at 0x207719315e0>"
      ]
     },
     "execution_count": 10,
     "metadata": {},
     "output_type": "execute_result"
    }
   ],
   "source": [
    "cursor.execute(sql)"
   ]
  },
  {
   "cell_type": "code",
   "execution_count": 11,
   "metadata": {},
   "outputs": [],
   "source": [
    "query = \"insert into slab values (?,?,?,?,?,?,?,?,?,?)\"\n",
    "for data in traffic:\n",
    "    keys = tuple(data[c] for c in columns)\n",
    "    c = db.cursor()\n",
    "    c.execute(query, keys)\n",
    "    c.close()"
   ]
  },
  {
   "cell_type": "code",
   "execution_count": 27,
   "metadata": {},
   "outputs": [],
   "source": [
    "from sqlalchemy import create_engine"
   ]
  },
  {
   "cell_type": "code",
   "execution_count": 39,
   "metadata": {},
   "outputs": [],
   "source": [
    "import os\n",
    "\n",
    "file_path = os.path.abspath(os.getcwd())+\"\\mydata.db\"\n",
    "file_path\n",
    "db = create_engine(f'sqlite:///{file_path}')"
   ]
  },
  {
   "cell_type": "code",
   "execution_count": 40,
   "metadata": {},
   "outputs": [],
   "source": [
    "statement = 'SELECT * FROM slab'"
   ]
  },
  {
   "cell_type": "code",
   "execution_count": 43,
   "metadata": {},
   "outputs": [
    {
     "data": {
      "text/plain": [
       "[]"
      ]
     },
     "execution_count": 43,
     "metadata": {},
     "output_type": "execute_result"
    }
   ],
   "source": [
    "result_set = db.execute(statement)\n",
    "data = [row._asdict() for row in result_set]\n",
    "data"
   ]
  },
  {
   "cell_type": "code",
   "execution_count": 42,
   "metadata": {},
   "outputs": [
    {
     "data": {
      "text/plain": [
       "[]"
      ]
     },
     "execution_count": 42,
     "metadata": {},
     "output_type": "execute_result"
    }
   ],
   "source": []
  },
  {
   "cell_type": "code",
   "execution_count": null,
   "metadata": {},
   "outputs": [],
   "source": []
  }
 ],
 "metadata": {
  "kernelspec": {
   "display_name": "Python 3.8.8 ('base')",
   "language": "python",
   "name": "python3"
  },
  "language_info": {
   "codemirror_mode": {
    "name": "ipython",
    "version": 3
   },
   "file_extension": ".py",
   "mimetype": "text/x-python",
   "name": "python",
   "nbconvert_exporter": "python",
   "pygments_lexer": "ipython3",
   "version": "3.8.8"
  },
  "orig_nbformat": 4,
  "vscode": {
   "interpreter": {
    "hash": "2a9d73323239a038e2598e03460358b35a0f5840d779364a844fb4ed62666ace"
   }
  }
 },
 "nbformat": 4,
 "nbformat_minor": 2
}
