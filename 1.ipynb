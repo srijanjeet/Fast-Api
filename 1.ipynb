{
 "cells": [
  {
   "cell_type": "code",
   "execution_count": 1,
   "metadata": {},
   "outputs": [],
   "source": [
    "import pandas as pd"
   ]
  },
  {
   "cell_type": "code",
   "execution_count": 42,
   "metadata": {},
   "outputs": [],
   "source": [
    "import json\n",
    "import sqlite3\n",
    "db = sqlite3.connect(\"fluxos.sqlite\")"
   ]
  },
  {
   "cell_type": "code",
   "execution_count": 43,
   "metadata": {},
   "outputs": [],
   "source": [
    "t = pd.read_json('sample1.json')\n",
    "t.columns = [\n",
    "   'Supplier_Name',\n",
    "   'Region',\n",
    "   'Country',\n",
    "   'Function',\n",
    "   'Avg_Cost',\n",
    "   'Rating',\n",
    "   'Average_Delivery_Time',\n",
    "   'Number_of_Escalations',\n",
    "   'Year',\n",
    "   'Resources' \n",
    "]"
   ]
  },
  {
   "cell_type": "code",
   "execution_count": 44,
   "metadata": {},
   "outputs": [],
   "source": [
    "t.to_json('main_json.json',orient='records')"
   ]
  },
  {
   "cell_type": "code",
   "execution_count": 45,
   "metadata": {},
   "outputs": [],
   "source": [
    "traffic = json.load(open('main_json.json'))"
   ]
  },
  {
   "cell_type": "code",
   "execution_count": 47,
   "metadata": {},
   "outputs": [],
   "source": [
    "columns = list(traffic[0].keys())"
   ]
  },
  {
   "cell_type": "code",
   "execution_count": 48,
   "metadata": {},
   "outputs": [
    {
     "data": {
      "text/plain": [
       "{'Supplier_Name': '360Networks Inc.',\n",
       " 'Region': 'Europe',\n",
       " 'Country': 'Canada',\n",
       " 'Function': 'Mobile developer',\n",
       " 'Avg_Cost': '185k',\n",
       " 'Rating': 93,\n",
       " 'Average_Delivery_Time': 258,\n",
       " 'Number_of_Escalations': 60,\n",
       " 'Year': 1995,\n",
       " 'Resources': 5500}"
      ]
     },
     "execution_count": 48,
     "metadata": {},
     "output_type": "execute_result"
    }
   ],
   "source": [
    "traffic[0]"
   ]
  },
  {
   "cell_type": "code",
   "execution_count": 49,
   "metadata": {},
   "outputs": [],
   "source": [
    "cursor = db.cursor()\n",
    "sql ='''CREATE TABLE slab(\n",
    "   Supplier_Name CHAR(200) NOT NULL,\n",
    "   Region CHAR(200),\n",
    "   Country CHAR(200),\n",
    "   Function CHAR(200),\n",
    "   Avg_Cost CHAR(200),\n",
    "   Rating INT,\n",
    "   Average_Delivery_Time INT,\n",
    "   Number_of_Escalations INT,\n",
    "   Year INT,\n",
    "   Resources INT\n",
    ")'''\n"
   ]
  },
  {
   "cell_type": "code",
   "execution_count": 50,
   "metadata": {},
   "outputs": [
    {
     "data": {
      "text/plain": [
       "<sqlite3.Cursor at 0x225692a1b20>"
      ]
     },
     "execution_count": 50,
     "metadata": {},
     "output_type": "execute_result"
    }
   ],
   "source": [
    "cursor.execute(sql)"
   ]
  },
  {
   "cell_type": "code",
   "execution_count": 52,
   "metadata": {},
   "outputs": [],
   "source": [
    "query = \"insert into slab values (?,?,?,?,?,?,?,?,?,?)\"\n",
    "for data in traffic:\n",
    "    keys = tuple(data[c] for c in columns)\n",
    "    c = db.cursor()\n",
    "    c.execute(query, keys)\n",
    "    c.close()"
   ]
  },
  {
   "cell_type": "code",
   "execution_count": null,
   "metadata": {},
   "outputs": [],
   "source": []
  }
 ],
 "metadata": {
  "kernelspec": {
   "display_name": "Python 3.8.8 ('base')",
   "language": "python",
   "name": "python3"
  },
  "language_info": {
   "codemirror_mode": {
    "name": "ipython",
    "version": 3
   },
   "file_extension": ".py",
   "mimetype": "text/x-python",
   "name": "python",
   "nbconvert_exporter": "python",
   "pygments_lexer": "ipython3",
   "version": "3.8.8"
  },
  "orig_nbformat": 4,
  "vscode": {
   "interpreter": {
    "hash": "2a9d73323239a038e2598e03460358b35a0f5840d779364a844fb4ed62666ace"
   }
  }
 },
 "nbformat": 4,
 "nbformat_minor": 2
}
